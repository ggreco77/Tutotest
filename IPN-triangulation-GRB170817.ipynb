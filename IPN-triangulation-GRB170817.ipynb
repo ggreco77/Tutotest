{
 "cells": [
  {
   "cell_type": "markdown",
   "id": "56d9adc1",
   "metadata": {},
   "source": [
    "# IPN triangulation of GRB 170817\n",
    "\n",
    "Using mocpy, we build the annulus corresponds to the constraint on the short GRB 170817A location derived from the difference in arrival time of the event to Fermi and INTEGRAL ([triangulation;\n",
    "Svinkin et al. 2017](https://gcn.gsfc.nasa.gov/gcn3/21515.gcn3)). The annulus is encoded in a MOC data structure and saved in a FITS format. "
   ]
  },
  {
   "cell_type": "code",
   "execution_count": 3,
   "id": "4f539703",
   "metadata": {},
   "outputs": [],
   "source": [
    "from mocpy import MOC\n",
    "import astropy.units as u\n",
    "from astropy.coordinates import Angle, Longitude, Latitude\n",
    "moc = MOC.from_ring(\n",
    " lon=Longitude(119.131 * u.deg),\n",
    " lat=Latitude(-44.133 * u.deg),\n",
    " internal_radius=Angle(53.867, u.deg),\n",
    " external_radius=Angle(93.241, u.deg),\n",
    " max_depth=10\n",
    ")"
   ]
  },
  {
   "cell_type": "code",
   "execution_count": 5,
   "id": "38749a87",
   "metadata": {},
   "outputs": [],
   "source": [
    "moc.save(\"IPN-GRB170817.fits\", format=\"fits\")"
   ]
  },
  {
   "cell_type": "code",
   "execution_count": null,
   "id": "d0c3e664",
   "metadata": {},
   "outputs": [],
   "source": []
  }
 ],
 "metadata": {
  "kernelspec": {
   "display_name": "Python 3",
   "language": "python",
   "name": "python3"
  },
  "language_info": {
   "codemirror_mode": {
    "name": "ipython",
    "version": 3
   },
   "file_extension": ".py",
   "mimetype": "text/x-python",
   "name": "python",
   "nbconvert_exporter": "python",
   "pygments_lexer": "ipython3",
   "version": "3.8.5"
  }
 },
 "nbformat": 4,
 "nbformat_minor": 5
}
