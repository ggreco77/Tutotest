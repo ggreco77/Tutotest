{
 "cells": [
  {
   "cell_type": "markdown",
   "metadata": {},
   "source": [
    "# Multi-messenger astromony in the context of the VO framework.\n",
    "\n",
    "### Partecipant project for the [second ESCAPE Virtual Observatory School](https://indico.in2p3.fr/event/25225/): a practical example using  the Multi Order Coverage maps in Python.\n",
    "##### Maria Lisa Brozzetti; marialisa.brozzetti@studenti.unipg.it"
   ]
  },
  {
   "cell_type": "markdown",
   "metadata": {},
   "source": [
    "The tutorial aims to analyze the [first multi-messenger event, GW170817/GRB170817/AT2017gfo](https://www.ligo.org/science/Publication-GW170817MMA/index.php) using the Multi Order Coverage map (MOC) to encode the gravitational-wave sky localizations from the LIGO and Virgo collaborations, and the gamma-ray-burst error boxes provided by the GBM instrument on board the Fermi Gamma-Ray Space Telescope and calculate from the IPN triangulation using the delay between Fermi and INTEGRAL. "
   ]
  },
  {
   "cell_type": "code",
   "execution_count": 5,
   "metadata": {},
   "outputs": [],
   "source": [
    "import matplotlib.pyplot as plt\n",
    "\n",
    "import mocpy\n",
    "from mocpy import MOC, STMOC, World2ScreenMPL\n",
    "\n",
    "import astropy\n",
    "from astropy.coordinates import SkyCoord, Angle, Longitude, Latitude\n",
    "\n",
    "from astropy.time import Time\n",
    "import astropy.units as u\n",
    "\n",
    "import healpy as hp"
   ]
  },
  {
   "cell_type": "markdown",
   "metadata": {},
   "source": [
    "## 1. Encoding of 2D credible regions in a MOC map\n",
    "From [ligo.skymap](https://lscsoft.docs.ligo.org/ligo.skymap/), it is possible to invoke the command-line [ligo-skymap-contour-moc](https://lscsoft.docs.ligo.org/ligo.skymap/tool/ligo_skymap_contour_moc.html). The method returns a credible level encoded in a MOC data structure of an all-sky probability map in FITS format. The method is based on [mocpy](https://cds-astro.github.io/mocpy/). \n",
    "\n",
    "Recently, the [mocpy version 0.10.0](https://cds-astro.github.io/mocpy/) builds the credibility regions with an algorithm that has various options, including one which produces the same results as\n",
    "Aladin Desktop (see a tutorial [here](https://indico.in2p3.fr/event/25225/sessions/15780/attachments/69008/97180/MMA_Aladin_v1a_comp.pdf)), and others that allow for different handling of the\n",
    "region boundaries. The method is [from_multiordermap_fits_file](https://cds-astro.github.io/mocpy/stubs/mocpy.MOC.html#mocpy.MOC.from_multiordermap_fits_file) method. This method digests only sky maps in the [multi-order format](https://emfollow.docs.ligo.org/userguide/tutorial/multiorder_skymaps.html) (in\n",
    "which different HEALPix orders are included). To convert a standard HEALPix\n",
    "format (where all the cells are at a single order) into a multi-order format, the command-line [ligo-skymap-unflatten](https://lscsoft.docs.ligo.org/ligo.skymap/tool/ligo_skymap_unflatten.html) can be applied."
   ]
  },
  {
   "cell_type": "markdown",
   "metadata": {},
   "source": [
    "## 1.1 Download the sky maps\n"
   ]
  },
  {
   "cell_type": "code",
   "execution_count": 6,
   "metadata": {},
   "outputs": [
    {
     "name": "stdout",
     "output_type": "stream",
     "text": [
      "  % Total    % Received % Xferd  Average Speed   Time    Time     Time  Current\n",
      "                                 Dload  Upload   Total   Spent    Left  Speed\n",
      "100 1592k  100 1592k    0     0   247k      0  0:00:06  0:00:06 --:--:--  302k 0   228k      0  0:00:06  0:00:04  0:00:02  228k\n",
      "  % Total    % Received % Xferd  Average Speed   Time    Time     Time  Current\n",
      "                                 Dload  Upload   Total   Spent    Left  Speed\n",
      "100 4469k  100 4469k    0     0   319k      0  0:00:13  0:00:13 --:--:--  105k\n",
      "  % Total    % Received % Xferd  Average Speed   Time    Time     Time  Current\n",
      "                                 Dload  Upload   Total   Spent    Left  Speed\n",
      "100 1453k  100 1453k    0     0  82197      0  0:00:18  0:00:18 --:--:-- 93081\n",
      "  % Total    % Received % Xferd  Average Speed   Time    Time     Time  Current\n",
      "                                 Dload  Upload   Total   Spent    Left  Speed\n",
      "100 1549k  100 1549k    0     0   711k      0  0:00:02  0:00:02 --:--:--  711k\n"
     ]
    }
   ],
   "source": [
    "# Initial sky localization with the two LIGO interferometers (L1+H1).\n",
    "!curl -O https://dcc.ligo.org/public/0146/G1701985/001/bayestar_no_virgo.fits.gz\n",
    "\n",
    "# Initial sky localization with the two LIGO + Virgo (L1+H1+V1).\n",
    "!curl -O https://dcc.ligo.org/public/0146/G1701985/001/bayestar.fits.gz\n",
    "    \n",
    "# Final sky localization published in the (GWTC-1).\n",
    "!curl -O https://dcc.ligo.org/public/0157/P1800381/007/GW170817_skymap.fits.gz\n",
    "    \n",
    "### Fermi/GBM localization of GRB 170817A\n",
    "!curl -O https://gammaray.nsstc.nasa.gov/gbm/science/grbs/grb170817a/gbuts_healpix_systematic.fit  "
   ]
  },
  {
   "cell_type": "markdown",
   "metadata": {},
   "source": [
    "## 1.2 Create credible regions encoded with MOC"
   ]
  },
  {
   "cell_type": "code",
   "execution_count": 7,
   "metadata": {},
   "outputs": [],
   "source": [
    "# Credible region (90%) with the two LIGO interferometers (L1+H1).\n",
    "!ligo-skymap-contour-moc  'bayestar_no_virgo.fits.gz' -c 90  --output 'credible_region_2ifos'\n",
    "\n",
    "# Credible region (90%) with the two LIGO + Virgo (L1+H1+V1).\n",
    "!ligo-skymap-contour-moc  'bayestar.fits.gz' -c 90  --output 'credible_region_3ifos'\n",
    "\n",
    "# Credible region (90%) - final sky localization published in the (GWTC-1).\n",
    "!ligo-skymap-contour-moc  'GW170817_skymap.fits.gz' -c 90  --output 'credible_region_final'\n",
    "\n",
    "# Credible region (90%) Fermi/GBM localization of GRB 170817A\n",
    "!ligo-skymap-contour-moc  'gbuts_healpix_systematic.fit' -c 90  --output 'fermi_gbm'"
   ]
  },
  {
   "cell_type": "markdown",
   "metadata": {
    "scrolled": true
   },
   "source": [
    "### 1.2.1 IPN triangulation\n",
    "\n",
    "TITLE:   GCN CIRCULAR\n",
    "\n",
    "NUMBER:  21515\n",
    "\n",
    "SUBJECT: LIGO/Virgo G298048: IPN triangulation of Fermi/GBM trigger 524666471/170817529\n",
    "\n",
    "DATE:    17/08/17 18:35:12 GMT\n",
    "\n",
    "FROM:    Dmitry Svinkin at Ioffe Institute  <svinkin@mail.ioffe.ru>\n",
    "\n",
    "D. Svinkin, K. Hurley, on behalf of the IPN,\n",
    "\n",
    "A. von Kienlin, X. Zhang, A. Rau, V. Savchenko, E. Bozzo,\n",
    "and C. Ferrigno, on behalf of the INTEGRAL SPI-ACS GRB team,\n",
    "\n",
    "V. Connaughton, M. S. Briggs, C. Meegan, V. Pelassa,\n",
    "and A. Goldstein, on behalf of the Fermi GBM team, report:\n",
    "\n",
    "A short-duration burst (Connaughton, LVC GCN Circ. 21506)\n",
    "has been detected by Fermi (GBM; trigger 524666471),\n",
    "and INTEGRAL (SPI-ACS), so far, at about 45666 s UT (12:41:06).\n",
    "\n",
    "We have triangulated it to a GBM-INTEGRAL annulus centered at \n",
    "RA(2000)=119.131 deg (07h 56m 31s)  Dec(2000)=-44.133 deg (-44d 07' \n",
    "57\"), whose radius is 73.554 +/- 19.687 deg (3 sigma). The annulus is \n",
    "consistent with the Fermi-GBM ground position \n",
    "(glg_loclist_all_bn170817529_v01.txt).\n",
    "\n",
    "This annulus may be improved.\n",
    "\n",
    "A triangulation map is posted at\n",
    "http://www.ioffe.ru/LEA/GRBs/GRB170817_T45666/IPN/"
   ]
  },
  {
   "cell_type": "code",
   "execution_count": 8,
   "metadata": {},
   "outputs": [],
   "source": [
    "# Creating the MOC annulus provided by IPN.\n",
    "ipn = MOC.from_ring(lon=Longitude(119.131 * u.deg),lat=Latitude(-44.133 * u.deg),\n",
    "                         internal_radius=Angle(53.867, u.deg),\n",
    "                         external_radius=Angle(93.241, u.deg),\n",
    "                         max_depth=10)\n",
    "\n",
    "# Save in fits format.\n",
    "ipn.write(\"ipn_triangulation\", overwrite=True)"
   ]
  },
  {
   "cell_type": "markdown",
   "metadata": {},
   "source": [
    "## 2. Plotting using Matplotlib"
   ]
  },
  {
   "cell_type": "code",
   "execution_count": 23,
   "metadata": {},
   "outputs": [
    {
     "name": "stderr",
     "output_type": "stream",
     "text": [
      "/Users/gius/miniconda3/lib/python3.8/site-packages/ipykernel/ipkernel.py:283: DeprecationWarning: `should_run_async` will not call `transform_cell` automatically in the future. Please pass the result to `transformed_cell` argument and any exception that happen during thetransform in `preprocessing_exc_tuple` in IPython 7.17 and above.\n",
      "  and should_run_async(code)\n"
     ]
    },
    {
     "data": {
      "image/png": "[encoded data removed]",
      "text/plain": [
       "<Figure size 720x720 with 1 Axes>"
      ]
     },
     "metadata": {
      "needs_background": "light"
     },
     "output_type": "display_data"
    }
   ],
   "source": [
    "fig = plt.figure(111, figsize=(10, 10))\n",
    "\n",
    "with World2ScreenMPL(fig, fov=170 * u.deg,\n",
    "                     center=SkyCoord(170.0, -40.0, \n",
    "                                     unit='deg', frame='icrs'),\n",
    "                     coordsys=\"icrs\",\n",
    "                     rotation=Angle(0, u.degree),\n",
    "                     projection='SIN') as wcs:\n",
    "    ax = fig.add_subplot(1, 1, 1, projection=wcs)\n",
    "    \n",
    "    # Loading MOC IPN annulus\n",
    "    ipn_triangulation = MOC.load(\"ipn_triangulation\")\n",
    "    \n",
    "    # Plot IPN annulus\n",
    "    ipn_triangulation.fill(ax=ax, wcs=wcs, alpha=0.7,linewidth=0, fill=True, \n",
    "                           color='lightblue', \n",
    "                           label='The IPN triangulation')\n",
    "    ipn_triangulation.border(ax=ax, wcs=wcs, alpha=0.7, color=\"lightblue\")\n",
    "\n",
    "    # Load Fermi/GBM error box of GRB 170817\n",
    "    fermi_gbm = MOC.load(\"fermi_gbm\")\n",
    "    \n",
    "    # Plot Fermi/GBM error box of GRB 170817\n",
    "    fermi_gbm.fill(ax=ax, wcs=wcs, alpha=0.9,linewidth=0, fill=True, \n",
    "                   color=\"#74bbfb\", \n",
    "                   label='Fermi/GBM localization')\n",
    "    fermi_gbm.border(ax=ax, wcs=wcs, alpha=0.9, color=\"#74bbfb\")\n",
    "        \n",
    "    # Loading L1+H1 MOC credible region\n",
    "    credible_region_2ifos = MOC.load(\"credible_region_2ifos\")\n",
    "    \n",
    "    # Plot L1+H1 credible region\n",
    "    credible_region_2ifos.fill(ax=ax, wcs=wcs, alpha=0.5,linewidth=0, fill=True, \n",
    "                               color='green', \n",
    "                               label='90% credible region with H1+L1')\n",
    "    credible_region_2ifos.border(ax=ax, wcs=wcs, alpha=0.5, color=\"green\")\n",
    "    \n",
    "    # Loading L1+H1+V1 MOC credible region\n",
    "    credible_region_3ifos = MOC.load(\"credible_region_3ifos\")\n",
    "    \n",
    "    # Plot L1+H1+V1 credible region\n",
    "    credible_region_3ifos.fill(ax=ax, wcs=wcs, alpha=0.7,linewidth=0, fill=True, \n",
    "                               color=\"red\", \n",
    "                               label='90% credible region with H1+L1+V1')\n",
    "    credible_region_3ifos.border(ax=ax, wcs=wcs, alpha=0.8, color=\"red\")\n",
    "             \n",
    "    # Loading MOC credible region (90%) (GWTC-1).\n",
    "    credible_region_final = MOC.load(\"credible_region_final\")\n",
    "    \n",
    "    # Plot credible region (90%) - published in the (GWTC-1).\n",
    "    credible_region_final.fill(ax=ax, wcs=wcs, alpha=0.7,linewidth=0, \n",
    "                               fill=True, color=\"orange\", \n",
    "                               label='90% credible region - GWTC-1')\n",
    "    credible_region_final.border(ax=ax, wcs=wcs, alpha=0.7, color=\"orange\")\n",
    "    \n",
    "#    print('The intersection sky area is {:.2f} sq. deg.'.format(intersection_area))\n",
    "    \n",
    "    ax.legend()\n",
    "    plt.title('Localisation of the gravitational-wave and gamma-ray signals')\n",
    "    \n",
    "    plt.grid(color=\"black\", linestyle=\"dotted\")\n",
    "    plt.show()"
   ]
  },
  {
   "cell_type": "markdown",
   "metadata": {},
   "source": [
    "## 3. Areas and disjoint regions"
   ]
  },
  {
   "cell_type": "code",
   "execution_count": 10,
   "metadata": {},
   "outputs": [
    {
     "name": "stdout",
     "output_type": "stream",
     "text": [
      "The Area (90%) with L1 and H1: 187.32°^2\n",
      "The number of the disjoint regions: 2\n",
      "\n",
      "The Area (90%) with L1, H1 and V1: 30.98°^2\n",
      "The number of the disjoint regions: 1\n",
      "\n",
      "The Area (90%) in the final analysis: 16.16°^2\n",
      "The number of the disjoint regions: 1\n"
     ]
    },
    {
     "name": "stderr",
     "output_type": "stream",
     "text": [
      "/Users/gius/miniconda3/lib/python3.8/site-packages/ipykernel/ipkernel.py:283: DeprecationWarning: `should_run_async` will not call `transform_cell` automatically in the future. Please pass the result to `transformed_cell` argument and any exception that happen during thetransform in `preprocessing_exc_tuple` in IPython 7.17 and above.\n",
      "  and should_run_async(code)\n"
     ]
    }
   ],
   "source": [
    "area_2ifo = round(credible_region_2ifos.sky_fraction*41253,2)\n",
    "print(\"The Area (90%) with L1 and H1: \" + str(area_2ifo) +'°^2' )\n",
    "print(\"The number of the disjoint regions: \" + \n",
    "      str(credible_region_2ifos.split_count()))\n",
    "print()\n",
    "\n",
    "area_3ifo = round(credible_region_3ifos.sky_fraction*41253,2)\n",
    "print(\"The Area (90%) with L1, H1 and V1: \" + str(area_3ifo) +'°^2' )\n",
    "print(\"The number of the disjoint regions: \" + \n",
    "      str(credible_region_3ifos.split_count()))\n",
    "print()\n",
    "\n",
    "area_final = round(credible_region_final.sky_fraction*41253,2)\n",
    "print(\"The Area (90%) in the final analysis: \" + str(area_final) +'°^2' )\n",
    "print(\"The number of the disjoint regions: \" + \n",
    "      str(credible_region_final.split_count()))"
   ]
  },
  {
   "cell_type": "code",
   "execution_count": 11,
   "metadata": {},
   "outputs": [
    {
     "data": {
      "text/plain": [
       "2"
      ]
     },
     "execution_count": 11,
     "metadata": {},
     "output_type": "execute_result"
    }
   ],
   "source": [
    "credible_region_2ifos.split_count()"
   ]
  },
  {
   "cell_type": "markdown",
   "metadata": {},
   "source": [
    "## 4. Interactive visualization using ipyladin widgets"
   ]
  },
  {
   "cell_type": "code",
   "execution_count": 12,
   "metadata": {},
   "outputs": [
    {
     "name": "stderr",
     "output_type": "stream",
     "text": [
      "/Users/gius/.local/lib/python3.8/site-packages/ipyaladin/aladin_widget.py:48: DeprecationWarning: Traits should be given as instances, not types (for example, `Int()`, not `Int`). Passing types is deprecated in traitlets 4.1.\n",
      "  options = List(trait=Unicode).tag(sync=True)\n"
     ]
    },
    {
     "data": {
      "application/vnd.jupyter.widget-view+json": {
       "model_id": "62638ef1d03c4fe4921c0a4db9f8e5a9",
       "version_major": 2,
       "version_minor": 0
      },
      "text/plain": [
       "Aladin(fov=180.0, options=['allow_full_zoomout', 'coo_frame', 'fov', 'full_screen', 'log', 'overlay_survey', '…"
      ]
     },
     "metadata": {},
     "output_type": "display_data"
    }
   ],
   "source": [
    "from ipyaladin import Aladin\n",
    "import ipyaladin as ipyal\n",
    "\n",
    "aladin = ipyal.Aladin(target='NGC 4993', fov=180, survey ='P/DSS2/color')\n",
    "aladin"
   ]
  },
  {
   "cell_type": "code",
   "execution_count": 13,
   "metadata": {},
   "outputs": [],
   "source": [
    "# Show the two credible regions in the Aladin widget with 2 different colors.\n",
    "colors = [ \"lightblue\", \"#74bbfb\", \"green\", \"red\", \"orange\"]\n",
    "\n",
    "credible_regions = [\"ipn_triangulation\", \"fermi_gbm\", \"credible_region_2ifos\",\n",
    "                   \"credible_region_3ifos\", \"credible_region_final\"]\n",
    "\n",
    "for credible_region, color in zip(credible_regions, colors):\n",
    "    aladin.add_moc_from_URL(credible_region, {'color': color, 'opacity': 0.7,\n",
    "                            'adaptativeDisplay': False, 'name':credible_region})"
   ]
  },
  {
   "cell_type": "markdown",
   "metadata": {},
   "source": [
    "## 4.1 Gravitational-wave sky localization and GRB error box"
   ]
  },
  {
   "cell_type": "code",
   "execution_count": 14,
   "metadata": {},
   "outputs": [
    {
     "data": {
      "application/vnd.jupyter.widget-view+json": {
       "model_id": "213f24fa1bb9496cb80b575f6b0472f8",
       "version_major": 2,
       "version_minor": 0
      },
      "text/plain": [
       "Box(children=(Aladin(fov=180.0, layout=Layout(width='50%'), options=['allow_full_zoomout', 'coo_frame', 'fov',…"
      ]
     },
     "metadata": {},
     "output_type": "display_data"
    }
   ],
   "source": [
    "from ipywidgets import Layout, Box, widgets\n",
    "\n",
    "# Initialize the boxes\n",
    "left_box = Aladin(layout=Layout(width='50%'), target='NGC 4993', fov=180,survey='P/DSS2/color')\n",
    "right_box = Aladin(layout=Layout(width='50%'))\n",
    "\n",
    "# Synchronize target between 3 widgets\n",
    "widgets.jslink((left_box, 'target'), (right_box, 'target'))\n",
    "# Synchronize FoV (zoom level) between 2 widgets\n",
    "widgets.jslink((left_box, 'fov'), (right_box, 'fov'))\n",
    "\n",
    "items = [left_box,right_box]\n",
    "\n",
    "box_layout = Layout(display='flex',\n",
    "                    flex_flow='row',\n",
    "                    align_items='stretch',\n",
    "                    border='solid',\n",
    "                    width='100%')\n",
    "box = Box(children=items, layout=box_layout)\n",
    "box"
   ]
  },
  {
   "cell_type": "code",
   "execution_count": 15,
   "metadata": {},
   "outputs": [],
   "source": [
    "left_box.add_moc_from_URL('fermi_gbm' ,{'color': '#74bbfb' , 'opacity': 0.7,\n",
    "                            'adaptativeDisplay': False, 'name': 'Fermi/GBM error box of GRB 170817' })\n",
    "\n",
    "right_box.add_moc_from_URL('credible_region_final', {'color': 'orange', 'opacity': 0.7, \n",
    "                                      'adaptativeDisplay': False, 'name': 'Sky localization of GW170817' })"
   ]
  },
  {
   "cell_type": "markdown",
   "metadata": {},
   "source": [
    "## 5. Spatial and Temporal intersection\n",
    "Two astrophysics events are considered coincident if they are within a particular time window of each other.\n",
    "Following the [LIGO-Virgo Pubic Alert User Guide](https://emfollow.docs.ligo.org/userguide/index.html) in the section [Coincident with External Trigger Search](https://emfollow.docs.ligo.org/userguide/analysis/searches.html#coincident-with-external-trigger-search), we use the time window from -1 s to 5 s around the GW time. It means that we take into account GRBs up to one\n",
    "second before or up to 5 seconds after the GW time. Following this prescription, the temporal interval to define the Space and Time MOC ranges from **2017-08-17T12:41:03 UTC to 2017-08-17T12:41:09 UTC**.\n",
    "\n",
    "In the case of the GRB 170817, we added the trigger time reported in [An Ordinary Short Gamma-Ray Burst with\n",
    "Extraordinary Implications: Fermi-GBM Detection of GRB 170817A](https://iopscience.iop.org/article/10.3847/2041-8213/aa8f41). The event was observed on 2017 August 17 at\n",
    "12:41:06 UTC triggered by the Fermi gamma-ray Burst Monitor (GBM). T90 is 2.0   0.5 s, starting at T0 − 0.192 s. With these values, we set an approximate time window from **2017-08-17T12:41:05.80 UTC to 2017-08-17T12:41:07.80 UTC**."
   ]
  },
  {
   "cell_type": "code",
   "execution_count": 16,
   "metadata": {},
   "outputs": [
    {
     "name": "stdout",
     "output_type": "stream",
     "text": [
      "The time intersection between GW and GRB events ranges from: 2017-08-17 12:41:05.800 to 2017-08-17 12:41:07.800\n",
      "\n",
      "The area intersection is: 16.16°^2\n",
      "The number of the disjoint regions: 1\n"
     ]
    },
    {
     "name": "stderr",
     "output_type": "stream",
     "text": [
      "/Users/gius/miniconda3/lib/python3.8/site-packages/mocpy/serializer.py:95: DeprecationWarning: This method is deprecated. Use MOC.save(path, \"fits\") instead!\n",
      "  warnings.warn('This method is deprecated. Use MOC.save(path, \"fits\") instead!', DeprecationWarning)\n"
     ]
    }
   ],
   "source": [
    "# Create a Space and Time MOC from the gravitational-wave sky localization\n",
    "stmoc_gw170817 = STMOC.from_spatial_coverages(Time(['2017-08-17T12:41:03'], \n",
    "                                                   format=\"isot\",  scale=\"utc\"), \n",
    "                                              Time(['2017-08-17T12:41:09'], \n",
    "                                                   format=\"isot\",  scale=\"utc\"),\n",
    "                                              [credible_region_final],time_depth=61)\n",
    "\n",
    "# Create a Space and Time MOC from the GRB error boxes from Fermi/GBM\n",
    "stmoc_grb170817 = STMOC.from_spatial_coverages(Time(['2017-08-17T12:41:05.80'], \n",
    "                                                    format=\"isot\",  scale=\"utc\"), \n",
    "                                               Time(['2017-08-17T12:41:07.80'], \n",
    "                                                    format=\"isot\",  scale=\"utc\"),\n",
    "                                               [fermi_gbm], time_depth=61)\n",
    "\n",
    "# Compute their space and time intersection and check that it is not empty\n",
    "space_time_intersection_gw_grb = stmoc_grb170817.intersection(stmoc_gw170817)\n",
    "\n",
    "if space_time_intersection_gw_grb.is_empty() != True:\n",
    "\n",
    "    print(\"The time intersection between GW and GRB events ranges from:\", \n",
    "          space_time_intersection_gw_grb.min_time.utc.iso +\n",
    "          ' to ' + space_time_intersection_gw_grb.max_time.utc.iso)\n",
    "    print()\n",
    "    # Compute their space intersection \n",
    "    space_intersection_gw_grb = fermi_gbm.intersection(credible_region_final)\n",
    "    area_int = round(space_intersection_gw_grb.sky_fraction*41253,2)\n",
    "    \n",
    "    print(\"The area intersection is: \" + str(area_int) +'°^2' )\n",
    "    print(\"The number of the disjoint regions: \" + \n",
    "      str(space_intersection_gw_grb.split_count()))\n",
    "    \n",
    "    # Save\n",
    "    space_intersection_gw_grb.write(\"space_intersection_gw_grb\", format='fits',\n",
    "                                  overwrite=True)\n",
    "    \n",
    "else:\n",
    "    print(\"The two astrophysical events are not coincident\")"
   ]
  },
  {
   "cell_type": "markdown",
   "metadata": {},
   "source": [
    "## 6. Query Vizier catalogs\n",
    "Here we query the galaxies collected in the [GLADE](https://ui.adsabs.harvard.edu/abs/2016yCat.7275....0D/abstract) catalog inside the intersection area between the GW170817 and GRB 170817. Then, we filter those galaxies according to the marginal distance posterior distribution integrated over the whole sky. The value reported in the header of GW170817 published in GWTC-1 [GW170814_skymap.fits.gz](https://dcc.ligo.org/public/0157/P1800381/007/GW170817_skymap.fits.gz)."
   ]
  },
  {
   "cell_type": "code",
   "execution_count": 17,
   "metadata": {},
   "outputs": [
    {
     "name": "stdout",
     "output_type": "stream",
     "text": [
      "{'XTENSION': 'BINTABLE', 'BITPIX': 8, 'NAXIS': 2, 'NAXIS1': 32, 'NAXIS2': 12582912, 'PCOUNT': 0, 'GCOUNT': 1, 'TFIELDS': 4, 'TTYPE1': 'PROB', 'TFORM1': 'D', 'TUNIT1': 'pix-1', 'TTYPE2': 'DISTMU', 'TFORM2': 'D', 'TUNIT2': 'Mpc', 'TTYPE3': 'DISTSIGMA', 'TFORM3': 'D', 'TUNIT3': 'Mpc', 'TTYPE4': 'DISTNORM', 'TFORM4': 'D', 'TUNIT4': 'Mpc-2', 'PIXTYPE': 'HEALPIX', 'ORDERING': 'NESTED', 'COORDSYS': 'C', 'NSIDE': 1024, 'INDXSCHM': 'IMPLICIT', 'OBJECT': 'GW170817', 'DATE-OBS': '2017-08-17T12:41:04.429464', 'MJD-OBS': 57982.52852348908, 'DATE': '2019-05-08T21:51:56.613850', 'CREATOR': 'ligo-skymap-from-samples', 'ORIGIN': 'LIGO/Virgo', 'DISTMEAN': 38.03408225450563, 'DISTSTD': 7.499686641911211, 'VCSVERS': 'ligo.skymap 0.0.15', 'VCSREV': '65fc6500a1e117fec2e27550a8e9b10c9792ffca', 'DATE-BLD': '2018-09-04T14:19:20', 'HISTORY': 't'}\n",
      "\n",
      "Posterior mean distance (Mpc): 38.03408225450563\n",
      "Posterior standard deviation of distance (Mpc): 7.499686641911211\n"
     ]
    }
   ],
   "source": [
    "url_GW170814_skymap = \"https://dcc.ligo.org/public/0157/P1800381/007/GW170817_skymap.fits.gz\"\n",
    "prob, header = hp.read_map(url_GW170814_skymap, h=True)\n",
    "\n",
    "header = dict(header)\n",
    "print(header)\n",
    "print()\n",
    "\n",
    "print('Posterior mean distance (Mpc):', + header['DISTMEAN'])\n",
    "print('Posterior standard deviation of distance (Mpc):', + header['DISTSTD'])"
   ]
  },
  {
   "cell_type": "code",
   "execution_count": 18,
   "metadata": {},
   "outputs": [
    {
     "data": {
      "text/html": [
       "<div><i>Table length=1969</i>\n",
       "<table id=\"table140632240533168\" class=\"table-striped table-bordered table-condensed\">\n",
       "<thead><tr><th>_RAJ2000</th><th>_DEJ2000</th><th>PGC</th><th>GWGC</th><th>HyperLEDA</th><th>_2MASS</th><th>SDSS-DR12</th><th>Flag1</th><th>RAJ2000</th><th>DEJ2000</th><th>Dist</th><th>z</th><th>Bmag</th><th>BMAG</th><th>Jmag</th><th>Hmag</th><th>Kmag</th><th>Flag2</th><th>Flag3</th></tr></thead>\n",
       "<thead><tr><th>deg</th><th>deg</th><th></th><th></th><th></th><th></th><th></th><th></th><th>deg</th><th>deg</th><th>Mpc</th><th></th><th>mag</th><th>mag</th><th>mag</th><th>mag</th><th>mag</th><th></th><th></th></tr></thead>\n",
       "<thead><tr><th>float64</th><th>float64</th><th>int32</th><th>str28</th><th>str29</th><th>str16</th><th>str18</th><th>str1</th><th>float64</th><th>float64</th><th>float64</th><th>float64</th><th>float32</th><th>float64</th><th>float32</th><th>float32</th><th>float32</th><th>str1</th><th>str1</th></tr></thead>\n",
       "<tr><td>194.9859999999999616</td><td>-19.4113900000000044</td><td>44681</td><td>PGC044681</td><td>PGC044681</td><td>---</td><td>---</td><td>G</td><td>194.98599999999999</td><td>-19.41139000000000</td><td>10.72210174250000</td><td>0.002498581249290</td><td>17.000</td><td>--</td><td>--</td><td>--</td><td>--</td><td>2</td><td>0</td></tr>\n",
       "<tr><td>194.3662569999999903</td><td>-19.6912979999999997</td><td>44313</td><td>NGC4830</td><td>NGC4830</td><td>12572790-1941286</td><td>---</td><td>G</td><td>194.36625699999999</td><td>-19.69129800000000</td><td>48.87318502940000</td><td>0.011740000000000</td><td>12.961</td><td>-20.48440</td><td>9.911</td><td>9.184</td><td>8.942</td><td>3</td><td>1</td></tr>\n",
       "<tr><td>196.8906399999999906</td><td>-24.0086059999999968</td><td>45466</td><td>NGC4970</td><td>NGC4970</td><td>13073375-2400309</td><td>---</td><td>G</td><td>196.89063999999999</td><td>-24.00860600000000</td><td>47.07325330160000</td><td>0.010276000000000</td><td>12.802</td><td>-20.56190</td><td>10.129</td><td>9.455</td><td>9.170</td><td>3</td><td>1</td></tr>\n",
       "<tr><td>197.4487760000000094</td><td>-23.3838309999999971</td><td>45657</td><td>NGC4993</td><td>NGC4993</td><td>13094770-2323017</td><td>---</td><td>G</td><td>197.44877600000001</td><td>-23.38383100000000</td><td>39.35494484370000</td><td>0.012307000000000</td><td>13.160</td><td>-19.81500</td><td>10.292</td><td>9.599</td><td>9.330</td><td>3</td><td>1</td></tr>\n",
       "<tr><td>197.0180049999999881</td><td>-23.7968440000000001</td><td>45514</td><td>IC4197</td><td>IC4197</td><td>13080432-2347486</td><td>---</td><td>G</td><td>197.01800499999999</td><td>-23.79684400000000</td><td>41.05862336570000</td><td>0.007911753955880</td><td>12.870</td><td>-20.19700</td><td>10.327</td><td>9.621</td><td>9.353</td><td>3</td><td>1</td></tr>\n",
       "<tr><td>193.3634639999999933</td><td>-17.0054949999999998</td><td>43792</td><td>NGC4763</td><td>NGC4763</td><td>12532723-1700197</td><td>---</td><td>G</td><td>193.36346399999999</td><td>-17.00549500000000</td><td>56.56962474240000</td><td>0.012679000000000</td><td>13.089</td><td>-20.67390</td><td>10.632</td><td>9.965</td><td>9.700</td><td>3</td><td>1</td></tr>\n",
       "<tr><td>196.7749019999999973</td><td>-23.6770400000000016</td><td>45426</td><td>NGC4968</td><td>NGC4968</td><td>13070597-2340373</td><td>---</td><td>G</td><td>196.77490200000000</td><td>-23.67704000000000</td><td>40.49351265710000</td><td>0.013487000000000</td><td>13.435</td><td>-19.60190</td><td>10.862</td><td>10.039</td><td>9.798</td><td>3</td><td>1</td></tr>\n",
       "<tr><td>194.2982480000000010</td><td>-17.4095750000000002</td><td>--</td><td>---</td><td>44257</td><td>12571157-1724344</td><td>---</td><td>G</td><td>194.29824800000000</td><td>-17.40957500000000</td><td>208.19597963999999</td><td>0.029887000000000</td><td>14.254</td><td>-22.33840</td><td>11.049</td><td>10.343</td><td>9.971</td><td>3</td><td>1</td></tr>\n",
       "<tr><td>195.2884520000000350</td><td>-18.1978649999999966</td><td>--</td><td>---</td><td>---</td><td>13010922-1811523</td><td>---</td><td>G</td><td>195.28845200000001</td><td>-18.19786500000000</td><td>72.15721921520000</td><td>0.019539000000000</td><td>17.508</td><td>-16.78340</td><td>10.983</td><td>10.322</td><td>10.034</td><td>3</td><td>1</td></tr>\n",
       "<tr><td>...</td><td>...</td><td>...</td><td>...</td><td>...</td><td>...</td><td>...</td><td>...</td><td>...</td><td>...</td><td>...</td><td>...</td><td>...</td><td>...</td><td>...</td><td>...</td><td>...</td><td>...</td><td>...</td></tr>\n",
       "<tr><td>194.8329999999999984</td><td>-17.6372799999999970</td><td>--</td><td>---</td><td>[TGK2001]J125919.8-173814.3</td><td>---</td><td>---</td><td>G</td><td>194.83300000000000</td><td>-17.63728000000000</td><td>--</td><td>--</td><td>--</td><td>--</td><td>--</td><td>--</td><td>--</td><td>0</td><td>0</td></tr>\n",
       "<tr><td>194.8429999999999893</td><td>-17.6158800000000006</td><td>--</td><td>---</td><td>[TGK2001]J125922.2-173656.9</td><td>---</td><td>---</td><td>G</td><td>194.84299999999999</td><td>-17.61588000000000</td><td>--</td><td>--</td><td>--</td><td>--</td><td>--</td><td>--</td><td>--</td><td>0</td><td>0</td></tr>\n",
       "<tr><td>197.5130000000000052</td><td>-24.2176899999999975</td><td>--</td><td>---</td><td>6dFJ1310030-241304</td><td>---</td><td>---</td><td>G</td><td>197.51300000000001</td><td>-24.21769000000000</td><td>--</td><td>--</td><td>--</td><td>--</td><td>--</td><td>--</td><td>--</td><td>0</td><td>0</td></tr>\n",
       "<tr><td>197.5730000000000075</td><td>-24.2669499999999942</td><td>--</td><td>---</td><td>6dFJ1310176-241601</td><td>---</td><td>---</td><td>G</td><td>197.57300000000001</td><td>-24.26695000000000</td><td>--</td><td>--</td><td>--</td><td>--</td><td>--</td><td>--</td><td>--</td><td>0</td><td>0</td></tr>\n",
       "<tr><td>194.7369999999999663</td><td>-19.6080300000000030</td><td>--</td><td>---</td><td>6dFJ1258570-193629</td><td>---</td><td>---</td><td>G</td><td>194.73699999999999</td><td>-19.60803000000000</td><td>--</td><td>--</td><td>--</td><td>--</td><td>--</td><td>--</td><td>--</td><td>0</td><td>0</td></tr>\n",
       "<tr><td>196.6999999999999886</td><td>-21.2940599999999982</td><td>--</td><td>---</td><td>6dFJ1306481-211739</td><td>---</td><td>---</td><td>G</td><td>196.69999999999999</td><td>-21.29406000000000</td><td>--</td><td>--</td><td>--</td><td>--</td><td>--</td><td>--</td><td>--</td><td>0</td><td>0</td></tr>\n",
       "<tr><td>195.0580000000000211</td><td>-17.8770999999999987</td><td>--</td><td>---</td><td>6dFJ1300139-175238</td><td>---</td><td>---</td><td>G</td><td>195.05799999999999</td><td>-17.87710000000000</td><td>--</td><td>--</td><td>--</td><td>--</td><td>--</td><td>--</td><td>--</td><td>0</td><td>0</td></tr>\n",
       "<tr><td>195.6270000000000095</td><td>-21.2042499999999983</td><td>--</td><td>---</td><td>6dFJ1302305-211215</td><td>---</td><td>---</td><td>G</td><td>195.62700000000001</td><td>-21.20425000000000</td><td>--</td><td>--</td><td>--</td><td>--</td><td>--</td><td>--</td><td>--</td><td>0</td><td>0</td></tr>\n",
       "<tr><td>195.7760000000000105</td><td>-19.6046799999999983</td><td>--</td><td>---</td><td>ESO575-051</td><td>---</td><td>---</td><td>G</td><td>195.77600000000001</td><td>-19.60468000000000</td><td>--</td><td>--</td><td>16.910</td><td>--</td><td>--</td><td>--</td><td>--</td><td>0</td><td>0</td></tr>\n",
       "<tr><td>198.2430000000000234</td><td>-24.9613399999999999</td><td>--</td><td>---</td><td>ESO508-026</td><td>---</td><td>---</td><td>G</td><td>198.24299999999999</td><td>-24.96134000000000</td><td>--</td><td>--</td><td>17.080</td><td>--</td><td>--</td><td>--</td><td>--</td><td>0</td><td>0</td></tr>\n",
       "</table></div>"
      ],
      "text/plain": [
       "<Table length=1969>\n",
       "      _RAJ2000             _DEJ2000        PGC  ...   Kmag  Flag2 Flag3\n",
       "        deg                  deg                ...   mag              \n",
       "      float64              float64        int32 ... float32  str1  str1\n",
       "-------------------- -------------------- ----- ... ------- ----- -----\n",
       "194.9859999999999616 -19.4113900000000044 44681 ...      --     2     0\n",
       "194.3662569999999903 -19.6912979999999997 44313 ...   8.942     3     1\n",
       "196.8906399999999906 -24.0086059999999968 45466 ...   9.170     3     1\n",
       "197.4487760000000094 -23.3838309999999971 45657 ...   9.330     3     1\n",
       "197.0180049999999881 -23.7968440000000001 45514 ...   9.353     3     1\n",
       "193.3634639999999933 -17.0054949999999998 43792 ...   9.700     3     1\n",
       "196.7749019999999973 -23.6770400000000016 45426 ...   9.798     3     1\n",
       "194.2982480000000010 -17.4095750000000002    -- ...   9.971     3     1\n",
       "195.2884520000000350 -18.1978649999999966    -- ...  10.034     3     1\n",
       "                 ...                  ...   ... ...     ...   ...   ...\n",
       "194.8329999999999984 -17.6372799999999970    -- ...      --     0     0\n",
       "194.8429999999999893 -17.6158800000000006    -- ...      --     0     0\n",
       "197.5130000000000052 -24.2176899999999975    -- ...      --     0     0\n",
       "197.5730000000000075 -24.2669499999999942    -- ...      --     0     0\n",
       "194.7369999999999663 -19.6080300000000030    -- ...      --     0     0\n",
       "196.6999999999999886 -21.2940599999999982    -- ...      --     0     0\n",
       "195.0580000000000211 -17.8770999999999987    -- ...      --     0     0\n",
       "195.6270000000000095 -21.2042499999999983    -- ...      --     0     0\n",
       "195.7760000000000105 -19.6046799999999983    -- ...      --     0     0\n",
       "198.2430000000000234 -24.9613399999999999    -- ...      --     0     0"
      ]
     },
     "execution_count": 18,
     "metadata": {},
     "output_type": "execute_result"
    }
   ],
   "source": [
    "table = space_intersection_gw_grb.query_vizier_table('VII/281/glade2')\n",
    "table"
   ]
  },
  {
   "cell_type": "code",
   "execution_count": 19,
   "metadata": {},
   "outputs": [
    {
     "name": "stderr",
     "output_type": "stream",
     "text": [
      "/Users/gius/miniconda3/lib/python3.8/site-packages/ipykernel/ipkernel.py:283: DeprecationWarning: `should_run_async` will not call `transform_cell` automatically in the future. Please pass the result to `transformed_cell` argument and any exception that happen during thetransform in `preprocessing_exc_tuple` in IPython 7.17 and above.\n",
      "  and should_run_async(code)\n"
     ]
    },
    {
     "data": {
      "text/html": [
       "<div><i>Table length=13</i>\n",
       "<table id=\"table140632238508736\" class=\"table-striped table-bordered table-condensed\">\n",
       "<thead><tr><th>_RAJ2000</th><th>_DEJ2000</th><th>PGC</th><th>GWGC</th><th>HyperLEDA</th><th>_2MASS</th><th>SDSS-DR12</th><th>Flag1</th><th>RAJ2000</th><th>DEJ2000</th><th>Dist</th><th>z</th><th>Bmag</th><th>BMAG</th><th>Jmag</th><th>Hmag</th><th>Kmag</th><th>Flag2</th><th>Flag3</th></tr></thead>\n",
       "<thead><tr><th>deg</th><th>deg</th><th></th><th></th><th></th><th></th><th></th><th></th><th>deg</th><th>deg</th><th>Mpc</th><th></th><th>mag</th><th>mag</th><th>mag</th><th>mag</th><th>mag</th><th></th><th></th></tr></thead>\n",
       "<thead><tr><th>float64</th><th>float64</th><th>int32</th><th>str28</th><th>str29</th><th>str16</th><th>str18</th><th>str1</th><th>float64</th><th>float64</th><th>float64</th><th>float64</th><th>float32</th><th>float64</th><th>float32</th><th>float32</th><th>float32</th><th>str1</th><th>str1</th></tr></thead>\n",
       "<tr><td>197.4487760000000094</td><td>-23.3838309999999971</td><td>45657</td><td>NGC4993</td><td>NGC4993</td><td>13094770-2323017</td><td>---</td><td>G</td><td>197.44877600000001</td><td>-23.38383100000000</td><td>39.35494484370000</td><td>0.012307000000000</td><td>13.160</td><td>-19.81500</td><td>10.292</td><td>9.599</td><td>9.330</td><td>3</td><td>1</td></tr>\n",
       "<tr><td>197.0180049999999881</td><td>-23.7968440000000001</td><td>45514</td><td>IC4197</td><td>IC4197</td><td>13080432-2347486</td><td>---</td><td>G</td><td>197.01800499999999</td><td>-23.79684400000000</td><td>41.05862336570000</td><td>0.007911753955880</td><td>12.870</td><td>-20.19700</td><td>10.327</td><td>9.621</td><td>9.353</td><td>3</td><td>1</td></tr>\n",
       "<tr><td>196.7749019999999973</td><td>-23.6770400000000016</td><td>45426</td><td>NGC4968</td><td>NGC4968</td><td>13070597-2340373</td><td>---</td><td>G</td><td>196.77490200000000</td><td>-23.67704000000000</td><td>40.49351265710000</td><td>0.013487000000000</td><td>13.435</td><td>-19.60190</td><td>10.862</td><td>10.039</td><td>9.798</td><td>3</td><td>1</td></tr>\n",
       "<tr><td>196.2705539999999758</td><td>-22.3839469999999992</td><td>45241</td><td>ESO575-053</td><td>ESO575-053</td><td>13050493-2223022</td><td>---</td><td>G</td><td>196.27055400000000</td><td>-22.38394700000000</td><td>33.71243914990000</td><td>0.017150000000000</td><td>14.136</td><td>-18.50300</td><td>12.205</td><td>11.449</td><td>11.255</td><td>3</td><td>1</td></tr>\n",
       "<tr><td>196.9072419999999966</td><td>-23.5789199999999965</td><td>45475</td><td>ESO508-010</td><td>ESO508-010</td><td>13073773-2334441</td><td>---</td><td>G</td><td>196.90724200000000</td><td>-23.57892000000000</td><td>45.19174966360000</td><td>0.012923000000000</td><td>14.216</td><td>-19.05930</td><td>12.272</td><td>11.503</td><td>11.303</td><td>3</td><td>1</td></tr>\n",
       "<tr><td>197.6914060000000006</td><td>-23.8657280000000043</td><td>--</td><td>---</td><td>---</td><td>13104593-2351566</td><td>---</td><td>G</td><td>197.69140600000000</td><td>-23.86572800000000</td><td>38.72936502730000</td><td>0.014118000000000</td><td>14.461</td><td>-18.47920</td><td>12.568</td><td>11.932</td><td>11.622</td><td>3</td><td>1</td></tr>\n",
       "<tr><td>197.4659999999999798</td><td>-24.2393699999999974</td><td>45666</td><td>ESO508-019</td><td>ESO508-019</td><td>---</td><td>---</td><td>G</td><td>197.46600000000001</td><td>-24.23937000000000</td><td>39.47225668990000</td><td>0.008937184468590</td><td>13.600</td><td>-19.38150</td><td>--</td><td>--</td><td>--</td><td>3</td><td>1</td></tr>\n",
       "<tr><td>197.1769999999999641</td><td>-23.7757399999999990</td><td>797164</td><td>PGC797164</td><td>PGC797164</td><td>---</td><td>---</td><td>G</td><td>197.17699999999999</td><td>-23.77574000000000</td><td>36.55396281890000</td><td>0.009089224544610</td><td>15.220</td><td>-17.59470</td><td>--</td><td>--</td><td>--</td><td>2</td><td>1</td></tr>\n",
       "<tr><td>196.8789999999999907</td><td>-23.1704700000000017</td><td>803966</td><td>PGC803966</td><td>PGC803966</td><td>---</td><td>---</td><td>G</td><td>196.87899999999999</td><td>-23.17047000000000</td><td>38.03878376600000</td><td>0.009396244698120</td><td>17.260</td><td>-15.64110</td><td>--</td><td>--</td><td>--</td><td>2</td><td>1</td></tr>\n",
       "<tr><td>197.0639999999999930</td><td>-21.0015800000000006</td><td>45524</td><td>ESO575-061</td><td>ESO575-061</td><td>---</td><td>---</td><td>G</td><td>197.06399999999999</td><td>-21.00158000000000</td><td>31.44564665090000</td><td>0.008044684022340</td><td>15.190</td><td>-17.29780</td><td>--</td><td>--</td><td>--</td><td>2</td><td>1</td></tr>\n",
       "<tr><td>197.1349999999999909</td><td>-23.3472499999999954</td><td>45550</td><td>ESO508-014</td><td>ESO508-014</td><td>---</td><td>---</td><td>G</td><td>197.13499999999999</td><td>-23.34725000000000</td><td>43.15052741810000</td><td>0.010261445130700</td><td>15.710</td><td>-17.46490</td><td>--</td><td>--</td><td>--</td><td>2</td><td>1</td></tr>\n",
       "<tr><td>197.3240000000000123</td><td>-24.3820699999999988</td><td>4075681</td><td>6dFJ1309178-242256</td><td>6dFJ1309178-242256</td><td>---</td><td>---</td><td>G</td><td>197.32400000000001</td><td>-24.38207000000000</td><td>35.49510121760000</td><td>0.008849614424810</td><td>16.500</td><td>-16.25080</td><td>--</td><td>--</td><td>--</td><td>2</td><td>1</td></tr>\n",
       "<tr><td>196.8919999999999959</td><td>-23.8151699999999984</td><td>--</td><td>---</td><td>796755</td><td>---</td><td>---</td><td>G</td><td>196.89200000000000</td><td>-23.81517000000000</td><td>41.12383580810000</td><td>0.009927964963980</td><td>18.030</td><td>-15.04050</td><td>--</td><td>--</td><td>--</td><td>2</td><td>1</td></tr>\n",
       "</table></div>"
      ],
      "text/plain": [
       "<Table length=13>\n",
       "      _RAJ2000             _DEJ2000         PGC   ...   Kmag  Flag2 Flag3\n",
       "        deg                  deg                  ...   mag              \n",
       "      float64              float64         int32  ... float32  str1  str1\n",
       "-------------------- -------------------- ------- ... ------- ----- -----\n",
       "197.4487760000000094 -23.3838309999999971   45657 ...   9.330     3     1\n",
       "197.0180049999999881 -23.7968440000000001   45514 ...   9.353     3     1\n",
       "196.7749019999999973 -23.6770400000000016   45426 ...   9.798     3     1\n",
       "196.2705539999999758 -22.3839469999999992   45241 ...  11.255     3     1\n",
       "196.9072419999999966 -23.5789199999999965   45475 ...  11.303     3     1\n",
       "197.6914060000000006 -23.8657280000000043      -- ...  11.622     3     1\n",
       "197.4659999999999798 -24.2393699999999974   45666 ...      --     3     1\n",
       "197.1769999999999641 -23.7757399999999990  797164 ...      --     2     1\n",
       "196.8789999999999907 -23.1704700000000017  803966 ...      --     2     1\n",
       "197.0639999999999930 -21.0015800000000006   45524 ...      --     2     1\n",
       "197.1349999999999909 -23.3472499999999954   45550 ...      --     2     1\n",
       "197.3240000000000123 -24.3820699999999988 4075681 ...      --     2     1\n",
       "196.8919999999999959 -23.8151699999999984      -- ...      --     2     1"
      ]
     },
     "execution_count": 19,
     "metadata": {},
     "output_type": "execute_result"
    }
   ],
   "source": [
    "# This is an expression for a 1-sigma cut on distance.\n",
    "mask1 = table['Dist'] < header['DISTMEAN']+header['DISTSTD']\n",
    "t1 = table[mask1]\n",
    "mask2 = t1['Dist'] > header['DISTMEAN']-header['DISTSTD']\n",
    "table_filtered = t1[mask2]\n",
    "table_filtered"
   ]
  },
  {
   "cell_type": "code",
   "execution_count": 20,
   "metadata": {
    "scrolled": false
   },
   "outputs": [
    {
     "data": {
      "application/vnd.jupyter.widget-view+json": {
       "model_id": "663a9f52010f4a0bb170a08364ccc73c",
       "version_major": 2,
       "version_minor": 0
      },
      "text/plain": [
       "Aladin(fov=180.0, options=['allow_full_zoomout', 'coo_frame', 'fov', 'full_screen', 'log', 'overlay_survey', '…"
      ]
     },
     "metadata": {},
     "output_type": "display_data"
    }
   ],
   "source": [
    "from ipyaladin import Aladin\n",
    "import ipyaladin as ipyal\n",
    "\n",
    "aladin = ipyal.Aladin(target='NGC 4993', fov=180, survey ='P/DSS2/color')\n",
    "aladin"
   ]
  },
  {
   "cell_type": "code",
   "execution_count": 21,
   "metadata": {},
   "outputs": [],
   "source": [
    "aladin.add_table(table_filtered)\n",
    "aladin.add_moc_from_URL('space_intersection_gw_grb' ,{'color': 'gold' , 'opacity': 0.6,\n",
    "                            'adaptativeDisplay': False, \n",
    "                                        'name': 'Intersection area between GW170817 and GRB 170817'})"
   ]
  },
  {
   "cell_type": "markdown",
   "metadata": {},
   "source": [
    "**NOTE.** Mocpy does not yet implement a galaxy catalog query by the three-dimensional posterior probability\n",
    "distribution. However, it is currently possible in Aladin to search for galaxies within the 2D credible region on the sky and, afterwards, apply a distance cut that is independent of sky position. Dedicated functionalities\n",
    "are provided in the Python library [ligo.skymap](https://lscsoft.docs.ligo.org/ligo.skymap/#)."
   ]
  },
  {
   "cell_type": "code",
   "execution_count": null,
   "metadata": {},
   "outputs": [],
   "source": []
  }
 ],
 "metadata": {
  "kernelspec": {
   "display_name": "Python 3",
   "language": "python",
   "name": "python3"
  },
  "language_info": {
   "codemirror_mode": {
    "name": "ipython",
    "version": 3
   },
   "file_extension": ".py",
   "mimetype": "text/x-python",
   "name": "python",
   "nbconvert_exporter": "python",
   "pygments_lexer": "ipython3",
   "version": "3.8.5"
  }
 },
 "nbformat": 4,
 "nbformat_minor": 4
}
