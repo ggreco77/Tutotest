{
 "cells": [
  {
   "cell_type": "markdown",
   "metadata": {},
   "source": [
    "## Sky Localizations of Gravitational-Wave Events\n",
    "Tutorial 2.6.1: skymap visualization/comparison and cross-matching a galaxy catalog.\n",
    "\n",
    "In this tutorial we will learn how:\n",
    "\n",
    "1. to visualize and compare the sky localizations,\n",
    "\n",
    "2. to cross-match a gravitational-wave sky localization with a galaxy catalog."
   ]
  },
  {
   "cell_type": "markdown",
   "metadata": {},
   "source": [
    "## Sky localizations and interforometer network.\n",
    "Here we show the importance in construction a network of interferometers for pinpointing the gravitational-wave source localizations over the sky. The case of GW190814 will be examined.\n",
    "\n",
    "### Real time improving of the sky localizations of GW190814\n",
    "GW190814 was first identified on 2019 August 14, 21:11:00 UTC as a loud two-detector event in LIGO Livingston and Virgo data (S/N 21.4 and 4.3). A [Notice](https://gcn.gsfc.nasa.gov/notices_l/S190814bv.lvc) was issued through NASA's Gamma-ray Coordinates Network 20 minutes later with a two-detector source localization computed using the rapid Bayesian algorithm BAYESTAR ([Singer & Price 2016](https://journals.aps.org/prd/abstract/10.1103/PhysRevD.93.024013)).\n",
    "\n",
    "Shortly thereafter, reanalyses including LIGO Hanford data were performed. A coincident gravitational-wave signal was identified in all three detectors. Results of these three-detector analyses were reported in the [GCN Circular 25324](https://gcn.gsfc.nasa.gov/gcn3/25324.gcn3) within 2.3 hr of the time of the event providing a three-detector localization [LIGO Scientific Collaboration & Virgo Collaboration 2019](https://iopscience.iop.org/article/10.3847/2041-8213/ab960f).\n",
    "\n",
    "We will apply the method [`ligo_skymap_contour_moc`](https://lscsoft.docs.ligo.org/ligo.skymap/tool/ligo_skymap_contour_moc.html) from [`ligo.skymap`](https://lscsoft.docs.ligo.org/ligo.skymap/) to create the 90% credible regions for the two-detector and three-detector sky localizations. "
   ]
  },
  {
   "cell_type": "code",
   "execution_count": 1,
   "metadata": {},
   "outputs": [
    {
     "name": "stdout",
     "output_type": "stream",
     "text": [
      "  % Total    % Received % Xferd  Average Speed   Time    Time     Time  Current\n",
      "                                 Dload  Upload   Total   Spent    Left  Speed\n",
      "100  759k  100  759k    0     0   271k      0  0:00:02  0:00:02 --:--:--  270k\n",
      "2021-04-15 12:31:45,939 WARNING Matplotlib created a temporary config/cache directory at /var/folders/5n/cq85zsfj29q5_nvkjg9l0b4c0000gn/T/matplotlib-lqer08lf because the default path (/Users/gius/.matplotlib) is not a writable directory; it is highly recommended to set the MPLCONFIGDIR environment variable to a writable directory, in particular to speed up the import of Matplotlib and to better support multiprocessing.\n",
      "2021-04-15 12:31:46,241 INFO Failed to extract font properties from /System/Library/Fonts/Supplemental/NISC18030.ttf: In FT2Font: Could not set the fontsize (error code 0x17)\n",
      "2021-04-15 12:31:46,259 INFO Failed to extract font properties from /System/Library/Fonts/LastResort.otf: tuple indices must be integers or slices, not str\n",
      "2021-04-15 12:31:46,281 INFO Failed to extract font properties from /System/Library/Fonts/Apple Color Emoji.ttc: In FT2Font: Could not set the fontsize (error code 0x17)\n",
      "2021-04-15 12:31:46,328 INFO generated new fontManager\n"
     ]
    }
   ],
   "source": [
    "# Download the two-detector sky map of GW190814 from GraceDB.\n",
    "!curl -O https://gracedb.ligo.org/api/superevents/S190814bv/files/bayestar.multiorder.fits,0\n",
    "    \n",
    "# Define the 90% credible region of two-detector source localization.\n",
    "!ligo-skymap-contour-moc bayestar.multiorder.fits,0  -c 90  --output 'GW190814 with 2 IFO'"
   ]
  },
  {
   "cell_type": "code",
   "execution_count": 2,
   "metadata": {},
   "outputs": [
    {
     "name": "stdout",
     "output_type": "stream",
     "text": [
      "  % Total    % Received % Xferd  Average Speed   Time    Time     Time  Current\n",
      "                                 Dload  Upload   Total   Spent    Left  Speed\n",
      "100  759k  100  759k    0     0   305k      0  0:00:02  0:00:02 --:--:--  305k\n",
      "2021-04-15 12:31:51,002 WARNING Matplotlib created a temporary config/cache directory at /var/folders/5n/cq85zsfj29q5_nvkjg9l0b4c0000gn/T/matplotlib-nrkljeoc because the default path (/Users/gius/.matplotlib) is not a writable directory; it is highly recommended to set the MPLCONFIGDIR environment variable to a writable directory, in particular to speed up the import of Matplotlib and to better support multiprocessing.\n",
      "2021-04-15 12:31:51,281 INFO Failed to extract font properties from /System/Library/Fonts/Apple Color Emoji.ttc: In FT2Font: Could not set the fontsize (error code 0x17)\n",
      "2021-04-15 12:31:51,337 INFO Failed to extract font properties from /System/Library/Fonts/Supplemental/NISC18030.ttf: In FT2Font: Could not set the fontsize (error code 0x17)\n",
      "2021-04-15 12:31:51,366 INFO Failed to extract font properties from /System/Library/Fonts/LastResort.otf: tuple indices must be integers or slices, not str\n",
      "2021-04-15 12:31:51,394 INFO generated new fontManager\n"
     ]
    }
   ],
   "source": [
    "# Download the three-detector sky map of GW190814 from GraceDB.\n",
    "!curl -O https://gracedb.ligo.org/api/superevents/S190814bv/files/bayestar.multiorder.fits\n",
    "    \n",
    "# Define the 90% credible region of three-detector source localization.\n",
    "!ligo-skymap-contour-moc bayestar.multiorder.fits  -c 90  --output 'GW190814 with 3 IFO'"
   ]
  },
  {
   "cell_type": "code",
   "execution_count": 3,
   "metadata": {
    "scrolled": true
   },
   "outputs": [
    {
     "data": {
      "application/vnd.jupyter.widget-view+json": {
       "model_id": "1e4bad96ece64c5bb1e325c71fc009b2",
       "version_major": 2,
       "version_minor": 0
      },
      "text/plain": [
       "Aladin(fov=180.0, options=['allow_full_zoomout', 'coo_frame', 'fov', 'full_screen', 'log', 'overlay_survey', '…"
      ]
     },
     "metadata": {},
     "output_type": "display_data"
    }
   ],
   "source": [
    "# Initialize an Aladin widget at a defined sky's position and with the DSS color survey.\n",
    "import ipyaladin as ipyal\n",
    "\n",
    "aladin = ipyal.Aladin(target='16.91000 -28.1100', fov=180, survey='P/DSS2/color')\n",
    "aladin"
   ]
  },
  {
   "cell_type": "code",
   "execution_count": 4,
   "metadata": {},
   "outputs": [],
   "source": [
    "# Show the two credible regions in the Aladin widget with 2 different colors.\n",
    "colors = [\"magenta\", \"yellow\"]\n",
    "\n",
    "credible_regions = [\"GW190814 with 2 IFO\", \"GW190814 with 3 IFO\"]\n",
    "\n",
    "for credible_region, color in zip(credible_regions, colors):\n",
    "    aladin.add_moc_from_URL(credible_region, {'color': color, 'opacity': 0.7,\n",
    "                            'adaptativeDisplay': False, 'name':credible_region})"
   ]
  },
  {
   "cell_type": "markdown",
   "metadata": {},
   "source": [
    "Scroll up and visualize the credible region contours in the interactive Aladin widget. From the `Manage Layers`, <img src=\"images/ipyaladin_layer.png\" alt=\"the Layer Button\" style=\"width:30px; display: inline-block;\"/> the 2 credible regions can be independently selected. \n",
    "\n",
    "If you hover the mouse pointer over the credible region plan a message will be displayed above it to show the coverage in sky percentage. How many square degrees? How refined the localization is?"
   ]
  },
  {
   "cell_type": "markdown",
   "metadata": {},
   "source": [
    "## Cross-Matching the sky localization with a Galaxy Catalog\n",
    "All sky localization for CBC (Compact Binary Coalescence) events are three dimensional: they include both the sky probability map (as shown above) and a directionally dependent distance estimate. This can be useful for identifying possible host galaxies using a galaxy redshift catalog.\n",
    "\n",
    "Using the [`crossmatch`](https://lscsoft.docs.ligo.org/ligo.skymap/postprocess/crossmatch.html) method in [`ligo.skymap`](https://lscsoft.docs.ligo.org/ligo.skymap/) package, we can extract the galaxies within the 90% credible volume. The galaxy table will be showed in the previous Aladin widget as a new overlay layer."
   ]
  },
  {
   "cell_type": "code",
   "execution_count": 5,
   "metadata": {},
   "outputs": [
    {
     "name": "stderr",
     "output_type": "stream",
     "text": [
      "Matplotlib created a temporary config/cache directory at /var/folders/5n/cq85zsfj29q5_nvkjg9l0b4c0000gn/T/matplotlib-70d6i73v because the default path (/Users/gius/.matplotlib) is not a writable directory; it is highly recommended to set the MPLCONFIGDIR environment variable to a writable directory, in particular to speed up the import of Matplotlib and to better support multiprocessing.\n"
     ]
    }
   ],
   "source": [
    "from astroquery.vizier import VizierClass\n",
    "from astropy.coordinates import SkyCoord\n",
    "from ligo.skymap.io import read_sky_map\n",
    "from ligo.skymap.postprocess import crossmatch"
   ]
  },
  {
   "cell_type": "markdown",
   "metadata": {},
   "source": [
    "Now we retrieve the GLADE catalog.\n",
    "\n",
    "**NOTE**. To keep the MyBinder memory, we load a verified subsample from the GLADE catalog.\n",
    "For real applications, download the entire [GLADE](https://vizier.u-strasbg.fr/viz-bin/VizieR?-source=VII/281) catalog."
   ]
  },
  {
   "cell_type": "code",
   "execution_count": 6,
   "metadata": {},
   "outputs": [],
   "source": [
    "# For real application, uncomment the lines below to load the entire GLADE catalog.\n",
    "\n",
    "#vizier = VizierClass(\n",
    "#    row_limit=-1, columns=['GWGC', '_RAJ2000', '_DEJ2000', 'Dist'])\n",
    "#cat, = vizier.get_catalogs('VII/281/glade2')"
   ]
  },
  {
   "cell_type": "code",
   "execution_count": 7,
   "metadata": {},
   "outputs": [],
   "source": [
    "# Comment this line in real application. We use this to save MyBinder memory.\n",
    "from astropy.table import Table\n",
    "cat = Table.read('https://github.com/ggreco77/Tutotest/blob/main/resources/table_tuto?raw=true')"
   ]
  },
  {
   "cell_type": "code",
   "execution_count": 8,
   "metadata": {},
   "outputs": [],
   "source": [
    "# Get coordinates and distance columns.\n",
    "coordinates = SkyCoord(cat['_RAJ2000'], cat['_DEJ2000'], cat['Dist'])"
   ]
  },
  {
   "cell_type": "code",
   "execution_count": 9,
   "metadata": {},
   "outputs": [],
   "source": [
    "# Read the initial GW190814 skymap with 3 IFO.\n",
    "skymap = read_sky_map('bayestar.multiorder.fits', moc=True)\n",
    "\n",
    "# List the galaxies within the 90% credible volume.\n",
    "result = crossmatch(skymap, coordinates)\n",
    "table = cat[result.searched_prob_vol < 0.9]"
   ]
  },
  {
   "cell_type": "markdown",
   "metadata": {},
   "source": [
    "Next, we get the **dP_dV**; these values rapresent the probability per volume occupied by each galaxy."
   ]
  },
  {
   "cell_type": "code",
   "execution_count": 10,
   "metadata": {},
   "outputs": [],
   "source": [
    "keep = (result.searched_prob_vol < 0.9)\n",
    "table = cat[keep]\n",
    "table['dP-dV'] = result.probdensity_vol[keep]"
   ]
  },
  {
   "cell_type": "code",
   "execution_count": 11,
   "metadata": {},
   "outputs": [],
   "source": [
    "# Add the galaxy list in the previous Aladin widget.\n",
    "aladin.add_table(table)"
   ]
  },
  {
   "cell_type": "markdown",
   "metadata": {},
   "source": [
    "How many galaxies within the 90% probability volume? (Suggetion: use the `Manage Layers`, <img src=\"images/ipyaladin_layer.png\" alt=\"the Layer Button\" style=\"width:30px; display: inline-block;\"/>"
   ]
  },
  {
   "cell_type": "markdown",
   "metadata": {},
   "source": [
    "## Challenge: GW\n",
    "\n",
    "GW170817 was another good example on how rapid and accurate sky localization can help for multimessenger astronomy. GW170817 was observed from the merger of a binary neutron star on August 17, 2017 at 12:41:04 UTC by the LIGO and Virgo detectors.\n",
    "\n",
    "In this challenge we will ask you to:\n",
    "\n",
    "1) Download the sky localizations for the [two LIGO detectors](https://dcc.ligo.org/public/0146/G1701985/001/bayestar_no_virgo.fits.gz) and for the [LIGO and Virgo detectors](https://dcc.ligo.org/public/0146/G1701985/001/LALInference_v2.fits.gz). Can you comment on which sky localization is better? Why?\n",
    "\n",
    "2) GW170817 merged in the NGC4993 galaxy, in the Hydra constellation. The hosting galaxy of the event was identified thanks to the [electromagnetic counterpart of GW170817](https://dcc.ligo.org/LIGO-P1700294/public). However, even with a GW alone and good sky localization we can identify the hosting galaxy. Use the following python snippet to get all the galaxies within 20 deg from NGC4993. Using the 2 detectors skymap, how many galaxies you find in the 90% CL sky localization? If you use the 3 detectors skymap?\n",
    "\n",
    "```\n",
    "from astroquery.vizier import Vizier\n",
    "import astropy.units as u\n",
    "Vizier.ROW_LIMIT = -1\n",
    "\n",
    "cat = Vizier.query_region(SkyCoord.from_name('NGC4993'),\n",
    "                          radius=20*u.deg, catalog='VII/281/glade2')['VII/281/glade2']\n",
    "```\n",
    "\n",
    "3) Using the two set of galaxies from the point 2), can you tell us the cosmological redshift at which GW170817 merged? (suggestion: You can histogram the distribution of the redshift of galaxies in the 90% CL). *Note*: Consider that the cosmological redshift of NGC4993 is around 0.0099, which sky localization gives the best result?.\n",
    "\n",
    "4) How many years ago GW170817 merged? To calculate the time of emission, you can use the following python code, where `redshift_GW170817` is the cosmological redshift of GW170817 (sueggestion: this can be the redshift of the galaxies from point 3)\n",
    "\n",
    "```\n",
    "from astropy.cosmology import Planck15\n",
    "\n",
    "time_merger = Planck15.lookback_time(redshift_GW170817)\n",
    "print(time_merger)\n",
    "```\n",
    "\n"
   ]
  },
  {
   "cell_type": "code",
   "execution_count": null,
   "metadata": {},
   "outputs": [],
   "source": [
    "## Solution below"
   ]
  },
  {
   "cell_type": "code",
   "execution_count": 12,
   "metadata": {},
   "outputs": [
    {
     "name": "stdout",
     "output_type": "stream",
     "text": [
      "  % Total    % Received % Xferd  Average Speed   Time    Time     Time  Current\n",
      "                                 Dload  Upload   Total   Spent    Left  Speed\n",
      "100 1592k  100 1592k    0     0   603k      0  0:00:02  0:00:02 --:--:--  603k\n"
     ]
    }
   ],
   "source": [
    "# Download the two-detector sky map of GW170817 from the DCC.\n",
    "!curl -O https://dcc.ligo.org/public/0146/G1701985/001/bayestar_no_virgo.fits.gz\n",
    "    \n",
    "# Define the 90% credible region of two-detector source localization.\n",
    "!ligo-skymap-contour-moc bayestar_no_virgo.fits.gz  -c 90  --output 'GW170817 with 2 detectors'"
   ]
  },
  {
   "cell_type": "code",
   "execution_count": 13,
   "metadata": {},
   "outputs": [
    {
     "name": "stdout",
     "output_type": "stream",
     "text": [
      "  % Total    % Received % Xferd  Average Speed   Time    Time     Time  Current\n",
      "                                 Dload  Upload   Total   Spent    Left  Speed\n",
      "100 1492k  100 1492k    0     0   530k      0  0:00:02  0:00:02 --:--:--  530k\n"
     ]
    }
   ],
   "source": [
    "# Download the three-detector sky map of GW170817 from the DCC.\n",
    "!curl -O https://dcc.ligo.org/public/0146/G1701985/001/LALInference_v2.fits.gz\n",
    "    \n",
    "# Define the 90% credible region of three-detector source localization.\n",
    "!ligo-skymap-contour-moc LALInference_v2.fits.gz  -c 90  --output 'GW170817 with 3 detectors'"
   ]
  },
  {
   "cell_type": "code",
   "execution_count": 14,
   "metadata": {
    "scrolled": true
   },
   "outputs": [
    {
     "data": {
      "application/vnd.jupyter.widget-view+json": {
       "model_id": "4bafdf42635542c2bc1a14d12eb41285",
       "version_major": 2,
       "version_minor": 0
      },
      "text/plain": [
       "Aladin(fov=180.0, options=['allow_full_zoomout', 'coo_frame', 'fov', 'full_screen', 'log', 'overlay_survey', '…"
      ]
     },
     "metadata": {},
     "output_type": "display_data"
    }
   ],
   "source": [
    "# Initialize an Aladin widget at a defined sky's position and with the DSS color survey.\n",
    "import ipyaladin as ipyal\n",
    "\n",
    "aladin = ipyal.Aladin(target='205.55 -42.63', fov=180, survey='P/DSS2/color')\n",
    "aladin"
   ]
  },
  {
   "cell_type": "code",
   "execution_count": 15,
   "metadata": {},
   "outputs": [],
   "source": [
    "# Show the two credible regions in the Aladin widget with 2 different colors.\n",
    "colors = [\"magenta\", \"yellow\"]\n",
    "\n",
    "credible_regions = ['GW170817 with 2 detectors','GW170817 with 3 detectors']\n",
    "\n",
    "for credible_region, color in zip(credible_regions, colors):\n",
    "    aladin.add_moc_from_URL(credible_region, {'color': color, 'opacity': 0.7,\n",
    "                            'adaptativeDisplay': False, 'name':credible_region})"
   ]
  },
  {
   "cell_type": "code",
   "execution_count": 16,
   "metadata": {},
   "outputs": [],
   "source": [
    "# We use the snippet from the question to get all the galaxies in a 60 deg radius from GW170817\n",
    "\n",
    "from astroquery.vizier import Vizier\n",
    "import astropy.units as u\n",
    "from astropy.coordinates import SkyCoord\n",
    "Vizier.ROW_LIMIT = -1\n",
    "\n",
    "cat = Vizier.query_region(SkyCoord.from_name('NGC4993'),\n",
    "                          radius=40*u.deg, catalog='VII/281/glade2')['VII/281/glade2']\n"
   ]
  },
  {
   "cell_type": "code",
   "execution_count": 17,
   "metadata": {},
   "outputs": [],
   "source": [
    "# Get coordinates and distance columns.\n",
    "import numpy as np\n",
    "coordinates = SkyCoord(cat['RAJ2000'], cat['DEJ2000'], cat['Dist'])"
   ]
  },
  {
   "cell_type": "code",
   "execution_count": 18,
   "metadata": {},
   "outputs": [
    {
     "name": "stdout",
     "output_type": "stream",
     "text": [
      "There are 105 galaxies in the 2 detectors sky localization\n",
      "There are 32 galaxies in the 3 detectors sky localization\n"
     ]
    }
   ],
   "source": [
    "# Read the initial GW170817 skymap with  IFO.\n",
    "skymap = read_sky_map('bayestar_no_virgo.fits.gz',moc=True)\n",
    "\n",
    "# List the galaxies within the 90% credible volume.\n",
    "result = crossmatch(skymap, coordinates)\n",
    "cat_2d = cat[result.searched_prob_vol < 0.90]\n",
    "\n",
    "# Add the galaxy list in the previous Aladin widget.\n",
    "aladin.add_table(cat_2d)\n",
    "\n",
    "print('There are {:d} galaxies in the 2 detectors sky localization'.format(len(cat_2d)))\n",
    "\n",
    "# Read the initial GW170817 skymap with  IFO.\n",
    "skymap = read_sky_map('LALInference_v2.fits.gz',moc=True)\n",
    "\n",
    "# List the galaxies within the 90% credible volume.\n",
    "result = crossmatch(skymap, coordinates)\n",
    "cat_3d = cat[result.searched_prob_vol < 0.90]\n",
    "\n",
    "# Add the galaxy list in the previous Aladin widget.\n",
    "aladin.add_table(cat_3d)\n",
    "\n",
    "print('There are {:d} galaxies in the 3 detectors sky localization'.format(len(cat_3d)))\n",
    "\n"
   ]
  },
  {
   "cell_type": "code",
   "execution_count": 19,
   "metadata": {},
   "outputs": [
    {
     "name": "stdout",
     "output_type": "stream",
     "text": [
      "With two detectors GW170817 is at redshift 0.008152 +/- 0.003448\n",
      "With two detectors GW170817 is at redshift 0.010035 +/- 0.003135\n"
     ]
    },
    {
     "data": {
      "image/png": "[encoded data removed]",
      "text/plain": [
       "<Figure size 432x288 with 1 Axes>"
      ]
     },
     "metadata": {
      "needs_background": "light"
     },
     "output_type": "display_data"
    }
   ],
   "source": [
    "import matplotlib.pyplot as plt\n",
    "import numpy as np\n",
    "\n",
    "plt.hist(cat_2d['z'],bins='auto',density=True,label='2 detectors',histtype='step')\n",
    "plt.hist(cat_3d['z'],bins='auto',density=True,label='3 detectors',histtype='step')\n",
    "plt.xlabel('Cosmological redshift')\n",
    "plt.ylabel('probability')\n",
    "plt.legend()\n",
    "print('With two detectors GW170817 is at redshift {:f} +/- {:f}'.format(np.mean(cat_2d['z']),np.std(cat_2d['z'])))\n",
    "print('With two detectors GW170817 is at redshift {:f} +/- {:f}'.format(np.mean(cat_3d['z']),np.std(cat_3d['z'])) )"
   ]
  },
  {
   "cell_type": "code",
   "execution_count": 20,
   "metadata": {},
   "outputs": [
    {
     "name": "stdout",
     "output_type": "stream",
     "text": [
      "With two detectors GW170817 is at redshift 0.116843 Gyr +/- 0.049056 Gyr\n",
      "With two detectors GW170817 is at redshift 0.143697 Gyr +/- 0.044459 Gyr\n"
     ]
    }
   ],
   "source": [
    "from astropy.cosmology import Planck15\n",
    "\n",
    "time_merger_2d = Planck15.lookback_time(cat_2d['z'])\n",
    "time_merger_3d = Planck15.lookback_time(cat_3d['z'])\n",
    "\n",
    "print('With two detectors GW170817 is at redshift {:f} +/- {:f}'.format(np.mean(time_merger_2d),np.std(time_merger_2d)))\n",
    "print('With two detectors GW170817 is at redshift {:f} +/- {:f}'.format(np.mean(time_merger_3d),np.std(time_merger_3d)) )"
   ]
  },
  {
   "cell_type": "code",
   "execution_count": null,
   "metadata": {},
   "outputs": [],
   "source": []
  }
 ],
 "metadata": {
  "kernelspec": {
   "display_name": "Python 3",
   "language": "python",
   "name": "python3"
  },
  "language_info": {
   "codemirror_mode": {
    "name": "ipython",
    "version": 3
   },
   "file_extension": ".py",
   "mimetype": "text/x-python",
   "name": "python",
   "nbconvert_exporter": "python",
   "pygments_lexer": "ipython3",
   "version": "3.8.7"
  }
 },
 "nbformat": 4,
 "nbformat_minor": 4
}
