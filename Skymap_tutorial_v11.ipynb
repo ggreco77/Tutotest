{
 "cells": [
  {
   "cell_type": "markdown",
   "metadata": {},
   "source": [
    "## Sky Localizations of Gravitational-Wave Events\n",
    "Tutorial 2.6.1: sky map visualization/comparison and cross-matching a galaxy catalog.\n",
    "\n",
    "In this tutorial we will learn how:\n",
    "\n",
    "1. to visualize and compare the sky localizations,\n",
    "\n",
    "2. to cross-match a gravitational-wave sky localization with a galaxy catalog."
   ]
  },
  {
   "cell_type": "markdown",
   "metadata": {},
   "source": [
    "### For Google Colab Users.\n",
    "Google Colab does not support third-party widgets and the interactive visualization is missed through the tutorial. We suggest running the tutorial in Binder or in your local environment.\n",
    "Alternatively, you can access the interactive sky map by uncommenting the following lines. A HTML page with a JavaScript code is embedded."
   ]
  },
  {
   "cell_type": "code",
   "execution_count": null,
   "metadata": {},
   "outputs": [],
   "source": [
    "#import IPython\n",
    "    \n",
    "#display(IPython.display.HTML('''\n",
    "#    <!-- Aladin Lite CSS style file -->\n",
    "#    <link rel=\"stylesheet\" href=\"https://aladin.u-strasbg.fr/AladinLite/api/v2/latest/aladin.min.css\" />\n",
    "\n",
    "#    <!-- Aladin Lite has a dependency on the jQuery library -->\n",
    "#    <script type=\"text/javascript\" src=\"https://code.jquery.com/jquery-1.9.1.min.js\" charset=\"utf-8\"></script>\n",
    "\n",
    "#    <!-- Aladin Lite container at requested dimensions -->\n",
    "#    <div id=\"aladin-lite-div\" style=\"width:500px;height:500px;\"></div>\n",
    "\n",
    "#    <!-- Aladin Lite JS code -->\n",
    "#    <script type=\"text/javascript\" src=\"https://aladin.u-strasbg.fr/AladinLite/api/v2/latest/aladin.min.js\" charset=\"utf-8\"></script>\n",
    "\n",
    "#    <!-- Creation of Aladin Lite instance with initial parameters -->\n",
    "#    <script type=\"text/javascript\">\n",
    "#        var aladin = A.aladin('#aladin-lite-div', {survey: \"P/DSS2/color\", fov:180, target: \"16.91000 -28.1100\",\n",
    "#                                                   showFullscreenControl: false});\n",
    "                                                   \n",
    "#    <!-- Add 90% credible region of two-detector source localization.  -->                                              \n",
    "#    var moc_1 = A.MOCFromURL('https://github.com/gw-odw/odw-2021/blob/tutorial_2_6/data/GW190814_with_2_IFO.fits?raw=true', \n",
    "#                          {name: 'GW190814_with_2_IFO', color: 'magenta', opacity: 0.7, adaptativeDisplay: false});\n",
    "#    aladin.addMOC(moc_1);\n",
    "    \n",
    "#    <!-- Add 90% credible region of three-detector source localization.  -->                                              \n",
    "#    var moc_2 = A.MOCFromURL('https://github.com/gw-odw/odw-2021/blob/tutorial_2_6/data/GW190814_with_3_IFO.fits?raw=true', \n",
    "#                          {name: 'GW190814_with_3_IFO', color: 'yellow', opacity: 0.7, adaptativeDisplay: false});\n",
    "#    aladin.addMOC(moc_2);\n",
    "    \n",
    "#    <!-- Add 90% credible region of final sky localization.  -->                                              \n",
    "#    var moc_3 = A.MOCFromURL('https://github.com/gw-odw/odw-2021/blob/tutorial_2_6/data/GW190814_final_localization.fits?raw=true', \n",
    "#                          {name: 'GW190814_final_localization', color: 'lightgreen', opacity: 0.85, adaptativeDisplay: false});\n",
    "#    aladin.addMOC(moc_3);\n",
    "    \n",
    "#    <!-- Add the galaxy catalog in 90% credible volume. -->\n",
    "#    aladin.addCatalog(A.catalogFromURL('https://github.com/gw-odw/odw-2021/blob/tutorial_2_6/data/galaxies_90volume_final_gw190814.vot?raw=true', \n",
    "#                                   {sourceSize:12, color: '#f08080', onClick: 'showTable'}));\n",
    "\n",
    "#    </script>\n",
    "#    '''))"
   ]
  },
  {
   "cell_type": "code",
   "execution_count": null,
   "metadata": {},
   "outputs": [],
   "source": [
    "# -- Uncomment following line if running in Google Colab\n",
    "# !pip install -q 'ligo.skymap==0.5.2' 'mocpy==0.8.5' 'astroquery==0.4.1'"
   ]
  },
  {
   "cell_type": "markdown",
   "metadata": {},
   "source": [
    "## Sky localizations and interferometer network.\n",
    "Here we show the importance in constructing a network of interferometers for pinpointing the gravitational-wave source localizations over the sky. The case of GW190814 will be examined.\n",
    "\n",
    "### Real time improving of the sky localizations of GW190814\n",
    "GW190814 was first identified on 2019 August 14, 21:11:00 UTC as a loud two-detector event in LIGO Livingston and Virgo data (S/N 21.4 and 4.3). A [Notice](https://gcn.gsfc.nasa.gov/notices_l/S190814bv.lvc) was issued through NASA's Gamma-ray Coordinates Network 20 minutes later with a two-detector source localization computed using the rapid Bayesian algorithm BAYESTAR ([Singer & Price 2016](https://journals.aps.org/prd/abstract/10.1103/PhysRevD.93.024013)).\n",
    "\n",
    "Shortly thereafter, re-analyses including LIGO Hanford data were performed. A coincident gravitational-wave signal was identified in all three detectors. Results of these three-detector analyses were reported in the [GCN Circular 25324](https://gcn.gsfc.nasa.gov/gcn3/25324.gcn3) within 2.3 hr of the time of the event providing a three-detector localization. \n",
    "\n",
    "Finally, we shows the final sky localization as presented in \n",
    "[GW190814: Gravitational Waves from the Coalescence of a 23 Solar Mass Black Hole with a 2.6 Solar Mass Compact Object](https://iopscience.iop.org/article/10.3847/2041-8213/ab960f) which constrains the source to within $\\sim$19 deg$^2$ at 90% probability.\n",
    "\n",
    "We will apply the command line tool [`ligo_skymap_contour_moc`](https://lscsoft.docs.ligo.org/ligo.skymap/tool/ligo_skymap_contour_moc.html) from [`ligo.skymap`](https://lscsoft.docs.ligo.org/ligo.skymap/) to create the 90% credible region for each sky localization. "
   ]
  },
  {
   "cell_type": "code",
   "execution_count": null,
   "metadata": {},
   "outputs": [],
   "source": [
    "# Download the two-detector sky map of GW190814 from GraceDB.\n",
    "!curl -O https://gracedb.ligo.org/api/superevents/S190814bv/files/bayestar.multiorder.fits,0\n",
    "    \n",
    "# Define the 90% credible region of two-detector source localization.\n",
    "!ligo-skymap-contour-moc bayestar.multiorder.fits,0  -c 90  --output 'GW190814_with_2_IFO'"
   ]
  },
  {
   "cell_type": "code",
   "execution_count": null,
   "metadata": {},
   "outputs": [],
   "source": [
    "# Download the three-detector sky map of GW190814 from GraceDB.\n",
    "!curl -O https://gracedb.ligo.org/api/superevents/S190814bv/files/bayestar.multiorder.fits\n",
    "    \n",
    "# Define the 90% credible region of three-detector source localization.\n",
    "!ligo-skymap-contour-moc bayestar.multiorder.fits  -c 90  --output 'GW190814_with_3_IFO'"
   ]
  },
  {
   "cell_type": "code",
   "execution_count": null,
   "metadata": {},
   "outputs": [],
   "source": [
    "# Download the final sky localization of GW190814 from GraceDB.\n",
    "!curl -O https://gracedb.ligo.org/api/superevents/S190814bv/files/GW190814_PublicationSamples.multiorder.fits,0\n",
    "    \n",
    "# Define the 90% credible region of the final sky localization.\n",
    "!ligo-skymap-contour-moc GW190814_PublicationSamples.multiorder.fits,0  -c 90  --output 'GW190814_final_localization'"
   ]
  },
  {
   "cell_type": "markdown",
   "metadata": {},
   "source": [
    "### For Google Colab Users.\n",
    "Please, skip the following two cells. Google Colab does not support third-party widgets. You can interactively work with the data using the Aladin application embedded at the top of the page."
   ]
  },
  {
   "cell_type": "code",
   "execution_count": null,
   "metadata": {
    "scrolled": true
   },
   "outputs": [],
   "source": [
    "from ipyaladin import Aladin\n",
    "from ipywidgets import Layout, Box, widgets\n",
    "\n",
    "# Define two widgets.\n",
    "left_widget = Aladin(layout=Layout(width='500px'), target='16.91000 -28.1100', fov=180)\n",
    "right_widget = Aladin(layout=Layout(width='500px'), survey='P/DSS2')\n",
    "\n",
    "# Synchronize target between two widgets.\n",
    "widgets.jslink((left_widget, 'target'), (right_widget, 'target'))\n",
    "\n",
    "# Synchronize FoV (zoom level) between widgets.\n",
    "widgets.jslink((left_widget, 'fov'), (right_widget, 'fov'))\n",
    "\n",
    "items = [left_widget, right_widget]\n",
    "\n",
    "# Define layout.\n",
    "box_layout = Layout(display='flex',\n",
    "                    flex_flow='row',\n",
    "                    align_items='stretch',\n",
    "                    border='solid',\n",
    "                    width='100%')\n",
    "box = Box(children=items, layout=box_layout)\n",
    "box"
   ]
  },
  {
   "cell_type": "code",
   "execution_count": null,
   "metadata": {},
   "outputs": [],
   "source": [
    "# Show the credible regions (90%) of the two/three-detector localizations in the right widget.\n",
    "import ipyaladin as ipyal\n",
    "colors = [\"magenta\", \"yellow\"]\n",
    "\n",
    "credible_regions = [\"GW190814_with_2_IFO\", \"GW190814_with_3_IFO\"]\n",
    "\n",
    "for credible_region, color in zip(credible_regions, colors):\n",
    "    left_widget.add_moc_from_URL(credible_region, {'color': color, 'opacity': 0.7,\n",
    "                                                   'adaptativeDisplay': False, 'name': credible_region})\n",
    "\n",
    "# Show the credible region (90%) of the final sky map in the left widget.\n",
    "right_widget.add_moc_from_URL('GW190814_final_localization', {'color': 'lightgreen', 'opacity': 0.8,\n",
    "                                                              'adaptativeDisplay': False, 'name': \n",
    "                                                              'GW190814_final_localization'})"
   ]
  },
  {
   "cell_type": "markdown",
   "metadata": {},
   "source": [
    "<a id='here'></a>\n",
    "## Interactive Data Visualization\n"
   ]
  },
  {
   "cell_type": "markdown",
   "metadata": {},
   "source": [
    "Scroll up and visualize the credible region contours in the interactive Aladin widgets. From the `Manage Layers` <img src=\"https://github.com/ggreco77/Tutotest/blob/main/images/ipyaladin_layer.png?raw=true\" alt=\"the Layer Button\" style=\"width:30px; display: inline-block;\"/> the credible regions can be independently selected. \n",
    "\n",
    "If you hover the mouse pointer over a credible region plan a message will be displayed above it to show the coverage in sky percentage. How many square degrees? How refined the final localization is?"
   ]
  },
  {
   "cell_type": "code",
   "execution_count": null,
   "metadata": {},
   "outputs": [],
   "source": [
    "# Print areas in square degrees.\n",
    "from mocpy import MOC\n",
    "\n",
    "GW190814_with_2_IFO = MOC.from_fits('GW190814_with_2_IFO')\n",
    "area_1 = GW190814_with_2_IFO.sky_fraction*41253\n",
    "print('The sky area (90%) localized with two detectors is {:.2f} sq. deg.'.format(area_1))\n",
    "\n",
    "GW190814_with_3_IFO = MOC.from_fits('GW190814_with_3_IFO')\n",
    "area_2 = GW190814_with_3_IFO.sky_fraction*41253\n",
    "print('The sky area (90%) localized with three detectors is {:.2f} sq. deg.'.format(area_2))\n",
    "\n",
    "GW190814_final_localization = MOC.from_fits('GW190814_final_localization')\n",
    "area_3 = GW190814_final_localization.sky_fraction*41253\n",
    "print('The final sky area (90%) is {:.2f} sq. deg.'.format(area_3))"
   ]
  },
  {
   "cell_type": "markdown",
   "metadata": {},
   "source": [
    "## Cross-Matching the sky localization with a Galaxy Catalog\n",
    "All sky localization for CBC (Compact Binary Coalescence) events are three dimensional: they include both the sky probability map (as shown above) and a directionally dependent distance estimate. This can be useful for identifying possible host galaxies using a galaxy redshift catalog.\n",
    "\n",
    "Using the [`crossmatch`](https://lscsoft.docs.ligo.org/ligo.skymap/postprocess/crossmatch.html) method in [`ligo.skymap`](https://lscsoft.docs.ligo.org/ligo.skymap/) package, we can extract the galaxies within the 90% credible volume. The galaxy table will be shown in the selected widget as a new overlay layer."
   ]
  },
  {
   "cell_type": "code",
   "execution_count": null,
   "metadata": {},
   "outputs": [],
   "source": [
    "from astroquery.vizier import VizierClass\n",
    "from astropy.coordinates import SkyCoord\n",
    "from ligo.skymap.io import read_sky_map\n",
    "from ligo.skymap.postprocess import crossmatch"
   ]
  },
  {
   "cell_type": "markdown",
   "metadata": {},
   "source": [
    "Now we retrieve the [GLADE](https://vizier.u-strasbg.fr/viz-bin/VizieR?-source=VII/281) catalog.\n",
    "\n",
    "**NOTE**. We will load a verified subsample from the GLADE catalog. This is because the process does not fit Binder’s default memory size.\n",
    "For real applications, download the entire GLADE catalog."
   ]
  },
  {
   "cell_type": "code",
   "execution_count": null,
   "metadata": {},
   "outputs": [],
   "source": [
    "# For a real application, uncomment the lines below to load the entire GLADE catalog.\n",
    "#vizier = VizierClass(\n",
    "#    row_limit=-1, columns=['GWGC', '_RAJ2000', '_DEJ2000', 'Dist'])\n",
    "#cat, = vizier.get_catalogs('VII/281/glade2')"
   ]
  },
  {
   "cell_type": "code",
   "execution_count": null,
   "metadata": {},
   "outputs": [],
   "source": [
    "# Comment these lines in a real application. We just try to fit the Binder’s default memory size.\n",
    "from astropy.table import Table\n",
    "cat = Table.read('https://github.com/gw-odw/odw-2021/blob/tutorial_2_6/data/selected_table_4_binder_gw190814.fits?raw=true')"
   ]
  },
  {
   "cell_type": "code",
   "execution_count": null,
   "metadata": {},
   "outputs": [],
   "source": [
    "# Get coordinate and distance columns.\n",
    "coordinates = SkyCoord(cat['_RAJ2000'], cat['_DEJ2000'], cat['Dist'])"
   ]
  },
  {
   "cell_type": "code",
   "execution_count": null,
   "metadata": {},
   "outputs": [],
   "source": [
    "# Read the final GW190814 sky map.\n",
    "skymap = read_sky_map('GW190814_PublicationSamples.multiorder.fits,0', moc=True)\n",
    "\n",
    "# List the galaxies within the 90% credible volume.\n",
    "result = crossmatch(skymap, coordinates)\n",
    "table = cat[result.searched_prob_vol < 0.9]"
   ]
  },
  {
   "cell_type": "markdown",
   "metadata": {},
   "source": [
    "Next, we get the **dP_dV**; these values represent the probability per volume occupied by each galaxy."
   ]
  },
  {
   "cell_type": "code",
   "execution_count": null,
   "metadata": {},
   "outputs": [],
   "source": [
    "keep = (result.searched_prob_vol < 0.9)\n",
    "table = cat[keep]\n",
    "table['dP-dV'] = result.probdensity_vol[keep].round(8)"
   ]
  },
  {
   "cell_type": "markdown",
   "metadata": {},
   "source": [
    "Google Colab Users: please skip the following cell. You can interactively work with the galaxy catalog using the Aladin application embedded at the top of the page."
   ]
  },
  {
   "cell_type": "code",
   "execution_count": null,
   "metadata": {},
   "outputs": [],
   "source": [
    "# Add the galaxy catalog in the Aladin (right) widget.\n",
    "right_widget.add_table(table)"
   ]
  },
  {
   "cell_type": "markdown",
   "metadata": {},
   "source": [
    "How many galaxies within the 90% credible volume? Suggestion: use the `Manage Layers`: <img src=\"https://github.com/ggreco77/Tutotest/blob/main/images/ipyaladin_layer.png?raw=true\" alt=\"the Layer Button\" style=\"width:30px; display: inline-block;\"/>"
   ]
  },
  {
   "cell_type": "code",
   "execution_count": null,
   "metadata": {},
   "outputs": [],
   "source": [
    "# Histogram of the galaxy distances within the 90% credible volume. \n",
    "import matplotlib.pyplot as plt\n",
    "%matplotlib inline\n",
    "\n",
    "plt.hist(table['Dist'])\n",
    "plt.xlabel('Galaxy Distance (Mpc)')\n",
    "plt.ylabel('Number of Galaxies')\n",
    "plt.show()"
   ]
  },
  {
   "cell_type": "markdown",
   "metadata": {},
   "source": [
    "## Challenge\n",
    "\n",
    "GW170817 is an extraordinary example on how rapid and accurate sky localizations can help multi-messenger astronomy to identify the electromagnetic counterpart from a gravitational-wave event. GW170817 is the first observation of a binary neutron star inspiral. It was observed on August 17, 2017 at 12:41:04 UTC by the LIGO and Virgo detectors. \n",
    "\n",
    "In this challenge we will ask you:\n",
    "\n",
    "- Download the sky localizations provided by the [two LIGO detectors](https://dcc.ligo.org/public/0146/G1701985/001/bayestar_no_virgo.fits.gz) and the final sky map in which the Virgo data have been added [LIGO and Virgo detectors](https://dcc.ligo.org/public/0157/P1800381/006/GW170817_skymap.fits.gz). Can you comment on which sky localization is more accurate?\n",
    "\n",
    "- GW170817 occured in the galaxy NGC 4993, in the direction of the Hydra constellation. The host galaxy was identified thanks to the [electromagnetic counterpart of GW170817](https://dcc.ligo.org/LIGO-P1700294/public). Using the two-detector sky map, how many galaxies do you find in the 90% credible volume? And if you consider the three-detector sky map?\n",
    "\n",
    "- How many years ago GW170817 merged? To calculate the time of emission, you can use the following python code, where `redshift_GW170817` is the cosmological redshift of GW170817.\n",
    "\n",
    "```\n",
    "from astropy.cosmology import Planck15\n",
    "\n",
    "time_merger = Planck15.lookback_time(redshift_GW170817)\n",
    "print(time_merger)\n",
    "```\n",
    "\n",
    "- You can use the `Search Button` <img src=\"https://github.com/ggreco77/Tutotest/blob/main/images/ipyaladin_search.png?raw=true\" alt=\"the Search Button\" style=\"width:30px; display: inline-block;\"/> to search for and visualize NGC 4993. "
   ]
  },
  {
   "cell_type": "markdown",
   "metadata": {},
   "source": [
    "### NOTE for Binder Users"
   ]
  },
  {
   "cell_type": "code",
   "execution_count": null,
   "metadata": {},
   "outputs": [],
   "source": [
    "# Download the following table to fit the Binder’s default memory size.\n",
    "from astropy.table import Table\n",
    "cat = Table.read('https://github.com/gw-odw/odw-2021/blob/tutorial_2_6/data/selected_table_4_binder_gw170817.fits?raw=true')"
   ]
  }
 ],
 "metadata": {
  "kernelspec": {
   "display_name": "Python 3",
   "language": "python",
   "name": "python3"
  },
  "language_info": {
   "codemirror_mode": {
    "name": "ipython",
    "version": 3
   },
   "file_extension": ".py",
   "mimetype": "text/x-python",
   "name": "python",
   "nbconvert_exporter": "python",
   "pygments_lexer": "ipython3",
   "version": "3.8.7"
  }
 },
 "nbformat": 4,
 "nbformat_minor": 4
}
